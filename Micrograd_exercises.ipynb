{
  "nbformat": 4,
  "nbformat_minor": 0,
  "metadata": {
    "colab": {
      "provenance": [],
      "include_colab_link": true
    },
    "kernelspec": {
      "name": "python3",
      "display_name": "Python 3"
    },
    "language_info": {
      "name": "python"
    }
  },
  "cells": [
    {
      "cell_type": "markdown",
      "metadata": {
        "id": "view-in-github",
        "colab_type": "text"
      },
      "source": [
        "<a href=\"https://colab.research.google.com/github/poursa/NNZHExercises/blob/main/Micrograd_exercises.ipynb\" target=\"_parent\"><img src=\"https://colab.research.google.com/assets/colab-badge.svg\" alt=\"Open In Colab\"/></a>"
      ]
    },
    {
      "cell_type": "markdown",
      "source": [
        "# micrograd exercises\n",
        "\n",
        "1. watch the [micrograd video](https://www.youtube.com/watch?v=VMj-3S1tku0) on YouTube\n",
        "2. come back and complete these exercises to level up :)"
      ],
      "metadata": {
        "id": "JnGHatCI51JP"
      }
    },
    {
      "cell_type": "markdown",
      "source": [
        "## section 1: derivatives"
      ],
      "metadata": {
        "id": "OFt6NKOz6iBZ"
      }
    },
    {
      "cell_type": "code",
      "source": [
        "# here is a mathematical expression that takes 3 inputs and produces one output\n",
        "from math import sin, cos\n",
        "\n",
        "def f(a, b, c):\n",
        "  return -a**3 + sin(3*b) - 1.0/c + b**2.5 - a**0.5\n",
        "\n",
        "print(f(2, 3, 4))"
      ],
      "metadata": {
        "id": "3Jx9fCXl5xHd",
        "outputId": "4a8613d9-a58f-4eab-bcf5-9c572b6314ab",
        "colab": {
          "base_uri": "https://localhost:8080/"
        }
      },
      "execution_count": 1,
      "outputs": [
        {
          "output_type": "stream",
          "name": "stdout",
          "text": [
            "6.336362190988558\n"
          ]
        }
      ]
    },
    {
      "cell_type": "code",
      "source": [
        "# write the function df that returns the analytical gradient of f\n",
        "# i.e. use your skills from calculus to take the derivative, then implement the formula\n",
        "# if you do not calculus then feel free to ask wolframalpha, e.g.:\n",
        "# https://www.wolframalpha.com/input?i=d%2Fda%28sin%283*a%29%29%29\n",
        "\n",
        "def gradf(a, b, c):\n",
        "  return [-3*a**2-1/2*a**(-0.5), 3*cos(3*b) + 2.5*b**1.5, c**(-2)] # todo, return [df/da, df/db, df/dc]\n",
        "\n",
        "# expected answer is the list of \n",
        "ans = [-12.353553390593273, 10.25699027111255, 0.0625]\n",
        "yours = gradf(2, 3, 4)\n",
        "for dim in range(3):\n",
        "  ok = 'OK' if abs(yours[dim] - ans[dim]) < 1e-5 else 'WRONG!'\n",
        "  print(f\"{ok} for dim {dim}: expected {ans[dim]}, yours returns {yours[dim]}\")\n"
      ],
      "metadata": {
        "id": "qXaH59eL9zxf",
        "outputId": "235fe511-6420-42dc-a11e-87141e4a71e2",
        "colab": {
          "base_uri": "https://localhost:8080/"
        }
      },
      "execution_count": 2,
      "outputs": [
        {
          "output_type": "stream",
          "name": "stdout",
          "text": [
            "OK for dim 0: expected -12.353553390593273, yours returns -12.353553390593273\n",
            "OK for dim 1: expected 10.25699027111255, yours returns 10.25699027111255\n",
            "OK for dim 2: expected 0.0625, yours returns 0.0625\n"
          ]
        }
      ]
    },
    {
      "cell_type": "code",
      "source": [
        "# now estimate the gradient numerically without any calculus, using\n",
        "# the approximation we used in the video.\n",
        "# you should not call the function df from the last cell\n",
        "a = 2\n",
        "b = 3\n",
        "c = 4\n",
        "\n",
        "dfa = (f(a+0.000001,b,c) - f(a,b,c))/0.000001\n",
        "dfb = (f(a,b+0.000001,c) - f(a,b,c))/0.000001\n",
        "dfc = (f(a,b,c+0.000001) - f(a,b,c))/0.000001\n",
        "\n",
        "# -----------\n",
        "numerical_grad = [dfa, dfb, dfc] # TODO\n",
        "# -----------\n",
        "\n",
        "for dim in range(3):\n",
        "  ok = 'OK' if abs(numerical_grad[dim] - ans[dim]) < 1e-5 else 'WRONG!'\n",
        "  print(f\"{ok} for dim {dim}: expected {ans[dim]}, yours returns {numerical_grad[dim]}\")\n"
      ],
      "metadata": {
        "id": "_27n-KTA9Qla",
        "outputId": "8eb4ecd7-82a1-4697-afc3-bce0d3e7cd70",
        "colab": {
          "base_uri": "https://localhost:8080/"
        }
      },
      "execution_count": 3,
      "outputs": [
        {
          "output_type": "stream",
          "name": "stdout",
          "text": [
            "OK for dim 0: expected -12.353553390593273, yours returns -12.353559348809995\n",
            "OK for dim 1: expected 10.25699027111255, yours returns 10.256991666679482\n",
            "OK for dim 2: expected 0.0625, yours returns 0.062499984743169534\n"
          ]
        }
      ]
    },
    {
      "cell_type": "code",
      "source": [
        "# there is an alternative formula that provides a much better numerical \n",
        "# approximation to the derivative of a function.\n",
        "# learn about it here: https://en.wikipedia.org/wiki/Symmetric_derivative\n",
        "# implement it. confirm that for the same step size h this version gives a\n",
        "# better approximation.\n",
        "a = 2\n",
        "b = 3\n",
        "c = 4\n",
        "\n",
        "dfa = (f(a+0.000001,b,c) - f(a-0.000001,b,c))/(2*0.000001)\n",
        "dfb = (f(a,b+0.000001,c) - f(a,b-0.000001,c))/(2*0.000001)\n",
        "dfc = (f(a,b,c+0.000001) - f(a,b,c-0.000001))/(2*0.000001)\n",
        "\n",
        "# -----------\n",
        "numerical_grad2 = [dfa, dfb, dfc] # TODO\n",
        "# -----------\n",
        "\n",
        "for dim in range(3):\n",
        "  ok = 'OK' if abs(numerical_grad2[dim] - ans[dim]) < 1e-5 else 'WRONG!'\n",
        "  print(f\"{ok} for dim {dim}: expected {ans[dim]}, yours returns {numerical_grad2[dim]}\")\n",
        "\n",
        "dist1 = [a - b for a , b in zip(ans, numerical_grad) ]\n",
        "dist2 = [a - b for a , b in zip(ans, numerical_grad2) ]\n",
        "\n",
        "print(dist1, \"\\n\" ,dist2)\n"
      ],
      "metadata": {
        "id": "BUqsGb5o_h2P",
        "outputId": "5c625738-c592-41a8-b075-faca360992b2",
        "colab": {
          "base_uri": "https://localhost:8080/"
        }
      },
      "execution_count": 6,
      "outputs": [
        {
          "output_type": "stream",
          "name": "stdout",
          "text": [
            "OK for dim 0: expected -12.353553390593273, yours returns -12.353553391353245\n",
            "OK for dim 1: expected 10.25699027111255, yours returns 10.25699027401572\n",
            "OK for dim 2: expected 0.0625, yours returns 0.06250000028629188\n",
            "[5.958216721779763e-06, -1.3955669331267018e-06, 1.5256830465659732e-08] \n",
            " [7.599716411732516e-10, -2.9031710369054053e-09, -2.8629187909245957e-10]\n"
          ]
        }
      ]
    },
    {
      "cell_type": "markdown",
      "source": [
        "## section 2: support for softmax"
      ],
      "metadata": {
        "id": "tklF9s_4AtlI"
      }
    },
    {
      "cell_type": "code",
      "source": [
        "# Value class starter code, with many functions taken out\n",
        "from math import exp, log, e\n",
        "\n",
        "class Value:\n",
        "  \n",
        "  def __init__(self, data, _children=(), _op='', label=''):\n",
        "    self.data = data\n",
        "    self.grad = 0.0\n",
        "    self._backward = lambda: None\n",
        "    self._prev = set(_children)\n",
        "    self._op = _op\n",
        "    self.label = label\n",
        "\n",
        "  def __repr__(self):\n",
        "    return f\"Value(data={self.data})\"\n",
        "  \n",
        "  def __rtruediv__(self, other):\n",
        "    other = other if isinstance(other, Value) else Value(other)\n",
        "    return other / self\n",
        "\n",
        "  def __truediv__(self, other):\n",
        "    other = other if isinstance(other, Value) else Value(other)\n",
        "    out = Value(self.data / other.data, (self, other), '/')\n",
        "    \n",
        "    def _backward():\n",
        "      self.grad += (1.0 / other.data) * out.grad\n",
        "      other.grad += (-self.data/(other.data**2)) * out.grad\n",
        "    out._backward = _backward\n",
        "    \n",
        "    return out\n",
        "\n",
        "  def __add__(self, other): # exactly as in the video\n",
        "    other = other if isinstance(other, Value) else Value(other)\n",
        "    out = Value(self.data + other.data, (self, other), '+')\n",
        "    \n",
        "    def _backward():\n",
        "      self.grad += 1.0 * out.grad\n",
        "      other.grad += 1.0 * out.grad\n",
        "    out._backward = _backward\n",
        "    \n",
        "    return out\n",
        "\n",
        "  def __radd__(self, other): # exactly as in the video\n",
        "    return self + other\n",
        "  \n",
        "  def __mul__(self,other): \n",
        "    other = other if isinstance(other,Value) else Value(other)\n",
        "    out = Value(self.data * other.data, (self, other), '*')\n",
        "\n",
        "    def _backward():\n",
        "      self.grad += other.data * out.grad\n",
        "      other.grad += self.data * out.grad\n",
        "    out._backward = _backward\n",
        "    \n",
        "    return out\n",
        "\n",
        "  def __rmul__ (self, other):\n",
        "    return other * self\n",
        "  \n",
        "  def __neg__(self):\n",
        "    return self * -1\n",
        "  \n",
        "  def log(self):\n",
        "    out = Value(log(self.data), (self,), 'log')\n",
        "\n",
        "    def _backward():\n",
        "      self.grad += (1.0 / 2.7 )*(1.0 / self.data) * out.grad\n",
        "    out._backward = _backward\n",
        "    return out\n",
        "\n",
        "  def exp(self): \n",
        "    out = Value(exp(self.data), (self,), 'exp')\n",
        "\n",
        "    def _backward():\n",
        "      self.grad += exp(self.data) * out.grad\n",
        "    out._backward = _backward\n",
        "    return out\n",
        "\n",
        "  \n",
        "  # ------\n",
        "  # re-implement all the other functions needed for the exercises below\n",
        "  # your code here\n",
        "  # TODO\n",
        "  # ------\n",
        "\n",
        "  def backward(self): # exactly as in video  \n",
        "    topo = []\n",
        "    visited = set()\n",
        "    def build_topo(v):\n",
        "      if v not in visited:\n",
        "        visited.add(v)\n",
        "        for child in v._prev:\n",
        "          build_topo(child)\n",
        "        topo.append(v)\n",
        "    build_topo(self)\n",
        "    \n",
        "    self.grad = 1.0\n",
        "    for node in reversed(topo):\n",
        "      node._backward()\n",
        "\n",
        "\n",
        "# without referencing our code/video __too__ much, make this cell work\n",
        "# you'll have to implement (in some cases re-implemented) a number of functions\n",
        "# of the Value object, similar to what we've seen in the video.\n",
        "# instead of the squared error loss this implements the negative log likelihood\n",
        "# loss, which is very often used in classification.\n",
        "\n",
        "# this is the softmax function\n",
        "# https://en.wikipedia.org/wiki/Softmax_function\n",
        "def softmax(logits):\n",
        "\n",
        "  counts = [logit.exp() for logit in logits]\n",
        "  denominator = sum(counts)\n",
        "  out = [c / denominator for c in counts]\n",
        "  return out\n",
        "\n",
        "\n",
        "\n",
        "# this is the negative log likelihood loss function, pervasive in classification\n",
        "logits = [Value(0.0), Value(3.0), Value(-2.0), Value(1.0)]\n",
        "probs = softmax(logits)\n",
        "loss = -probs[3].log() # dim 3 acts as the label for this input example\n",
        "loss.backward()\n",
        "\n",
        "print(loss)\n",
        "\n",
        "ans = [0.041772570515350445, 0.8390245074625319, 0.005653302662216329, -0.8864503806400986]\n",
        "for dim in range(4):\n",
        "  ok = 'OK' if abs(logits[dim].grad - ans[dim]) < 1e-5 else 'WRONG!'\n",
        "  print(f\"{ok} for dim {dim}: expected {ans[dim]}, yours returns {logits[dim].grad}\")"
      ],
      "metadata": {
        "id": "nAPe_RVrCTeO",
        "colab": {
          "base_uri": "https://localhost:8080/"
        },
        "outputId": "0c040cf5-13a1-483d-fdd3-b4a48a94b4dc"
      },
      "execution_count": 134,
      "outputs": [
        {
          "output_type": "stream",
          "name": "stdout",
          "text": [
            "Value(data=2.1755153626167147)\n",
            "WRONG! for dim 0: expected 0.041772570515350445, yours returns 0.015471322413092757\n",
            "WRONG! for dim 1: expected 0.8390245074625319, yours returns 0.3107498175787155\n",
            "WRONG! for dim 2: expected 0.005653302662216329, yours returns 0.0020938158008208625\n",
            "WRONG! for dim 3: expected -0.8864503806400986, yours returns -0.3283149557926292\n"
          ]
        }
      ]
    },
    {
      "cell_type": "code",
      "source": [
        "import pdb"
      ],
      "metadata": {
        "id": "Fv0Ej3zt1LF8"
      },
      "execution_count": null,
      "outputs": []
    },
    {
      "cell_type": "code",
      "source": [
        "# verify the gradient using the torch library\n",
        "# torch should give you the exact same gradient\n",
        "import torch\n"
      ],
      "metadata": {
        "id": "q7ca1SVAGG1S"
      },
      "execution_count": 51,
      "outputs": []
    },
    {
      "cell_type": "code",
      "source": [
        "plogits = torch.Tensor([0.0, 3.0, -2.0, 1.0]).double()\n",
        "plogits.requires_grad = True\n",
        "prob = plogits.softmax(0)\n",
        "loss = -prob[3].log()\n",
        "loss.backward()\n",
        "print(plogits.grad)\n",
        "print(prob)\n",
        "print(loss)\n"
      ],
      "metadata": {
        "colab": {
          "base_uri": "https://localhost:8080/"
        },
        "id": "a7CE3BaLDELB",
        "outputId": "a32b28d3-7dcc-4ee9-cb17-c9d137725cde"
      },
      "execution_count": 131,
      "outputs": [
        {
          "output_type": "stream",
          "name": "stdout",
          "text": [
            "tensor([ 0.0418,  0.8390,  0.0057, -0.8865], dtype=torch.float64)\n",
            "tensor([0.0418, 0.8390, 0.0057, 0.1135], dtype=torch.float64,\n",
            "       grad_fn=<SoftmaxBackward0>)\n",
            "tensor(2.1755, dtype=torch.float64, grad_fn=<NegBackward0>)\n"
          ]
        }
      ]
    }
  ]
}